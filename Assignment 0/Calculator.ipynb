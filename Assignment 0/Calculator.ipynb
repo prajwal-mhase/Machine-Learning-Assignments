{
 "cells": [
  {
   "cell_type": "code",
   "execution_count": 1,
   "id": "a9aadfdd",
   "metadata": {},
   "outputs": [
    {
     "name": "stdout",
     "output_type": "stream",
     "text": [
      "Hello TY B\n"
     ]
    }
   ],
   "source": [
    "print(\"Hello TY B\")"
   ]
  },
  {
   "cell_type": "code",
   "execution_count": 2,
   "id": "91f08ce4",
   "metadata": {},
   "outputs": [],
   "source": [
    "import numpy"
   ]
  },
  {
   "cell_type": "code",
   "execution_count": 3,
   "id": "495b5673",
   "metadata": {},
   "outputs": [],
   "source": [
    "op=input(\"Enter operation [Ex: a + b]: \")\n",
    "a,s,b=op.split()\n",
    "A=float(a)\n",
    "B=float(b)"
   ]
  },
  {
   "cell_type": "code",
   "execution_count": 4,
   "id": "7c728a0d",
   "metadata": {},
   "outputs": [
    {
     "name": "stdout",
     "output_type": "stream",
     "text": [
      "44.0 + 55.0 = 99.0\n"
     ]
    }
   ],
   "source": [
    "match s:\n",
    "    case '+':\n",
    "        print(A,s,B,\"=\",A+B)\n",
    "    case '-':\n",
    "        print(A,s,B,\"=\",A-B)\n",
    "    case '*':\n",
    "        print(A,s,B,\"=\",A*B)\n",
    "    case '/':\n",
    "        print(A,s,B,\"=\",A/B)\n",
    "    case _:\n",
    "        print(\"Invalid Operation!\")"
   ]
  }
 ],
 "metadata": {
  "kernelspec": {
   "display_name": ".venv",
   "language": "python",
   "name": "python3"
  },
  "language_info": {
   "codemirror_mode": {
    "name": "ipython",
    "version": 3
   },
   "file_extension": ".py",
   "mimetype": "text/x-python",
   "name": "python",
   "nbconvert_exporter": "python",
   "pygments_lexer": "ipython3",
   "version": "3.13.7"
  }
 },
 "nbformat": 4,
 "nbformat_minor": 5
}
